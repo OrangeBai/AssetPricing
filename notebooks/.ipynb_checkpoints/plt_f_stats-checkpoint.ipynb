{
 "cells": [
  {
   "cell_type": "code",
   "execution_count": 1,
   "metadata": {},
   "outputs": [
    {
     "name": "stdout",
     "output_type": "stream",
     "text": [
      "F:\\Code\\Finance\\AP\n"
     ]
    }
   ],
   "source": [
    "# return to parent directory\n",
    "%cd .."
   ]
  },
  {
   "cell_type": "code",
   "execution_count": 2,
   "metadata": {},
   "outputs": [],
   "source": [
    "# load modulers\n",
    "from engine.allocation import *\n",
    "from engine.utils import *\n",
    "import time\n",
    "from scipy.stats import f_oneway"
   ]
  },
  {
   "cell_type": "code",
   "execution_count": 3,
   "metadata": {},
   "outputs": [],
   "source": [
    "# set up parameters\n",
    "date_skip = 5\n",
    "before_dates = 30\n",
    "after_dates = 60\n",
    "before_idx = before_dates // date_skip\n",
    "after_idx = after_dates // date_skip\n",
    "dates = get_trade_dates(['2000-01-01', '2022-01-01'])\n",
    "dates = [dates[i] for i in range(0, len(dates), date_skip)]"
   ]
  },
  {
   "cell_type": "code",
   "execution_count": 4,
   "metadata": {},
   "outputs": [],
   "source": [
    "# load indicators\n",
    "\n",
    "# load turnover\n",
    "TO_path = os.path.join(ARR_DATA, 'Ind', 'Daily', 'Turnover.csv')\n",
    "TO = pd.read_csv(TO_path, index_col=0)\n",
    "\n",
    "# load adjusted turnover\n",
    "adjTO_path = os.path.join(ARR_DATA, 'Ind', 'Daily', 'AdjTO.csv')\n",
    "adjTO = pd.read_csv(adjTO_path, index_col=0)\n",
    "\n",
    "# load market value\n",
    "MV_path = os.path.join(ARR_DATA, 'Ret', 'Daily', 'Dsmvtll.csv')\n",
    "MV = pd.read_csv(MV_path, index_col='Trddt')"
   ]
  },
  {
   "cell_type": "code",
   "execution_count": null,
   "metadata": {},
   "outputs": [],
   "source": [
    "# allocate stocks\n",
    "feature_dfs = [MV, adjTO]\n",
    "periods = [(dates[idx - before_idx], dates[idx + after_idx]) for idx in\n",
    "           range(before_idx, len(dates[before_idx:-after_idx]))]\n",
    "features = [[feature.loc[date] for feature in feature_dfs] for date in dates[before_idx:-after_idx]]\n",
    "\n",
    "allocation = allocate_all_periods(periods, features, [(0, 0.5, 1), (0, 0.3, 0.7, 1)], ['MV', 'adjTO'])"
   ]
  }
 ],
 "metadata": {
  "kernelspec": {
   "display_name": "PyCharm (AP)",
   "language": "python",
   "name": "pycharm-d3e5b9b7"
  },
  "language_info": {
   "codemirror_mode": {
    "name": "ipython",
    "version": 3
   },
   "file_extension": ".py",
   "mimetype": "text/x-python",
   "name": "python",
   "nbconvert_exporter": "python",
   "pygments_lexer": "ipython3",
   "version": "3.7.11"
  },
  "widgets": {
   "application/vnd.jupyter.widget-state+json": {
    "state": {},
    "version_major": 2,
    "version_minor": 0
   }
  }
 },
 "nbformat": 4,
 "nbformat_minor": 1
}
